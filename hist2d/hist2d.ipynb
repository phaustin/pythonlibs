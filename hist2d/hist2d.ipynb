{
 "metadata": {
  "name": ""
 },
 "nbformat": 3,
 "nbformat_minor": 0,
 "worksheets": [
  {
   "cells": [
    {
     "cell_type": "heading",
     "level": 1,
     "metadata": {},
     "source": [
      "Demo of do_bins and hist_2d functions in fastbin.pyx"
     ]
    },
    {
     "cell_type": "heading",
     "level": 1,
     "metadata": {},
     "source": [
      "To dowload notebook and code:"
     ]
    },
    {
     "cell_type": "markdown",
     "metadata": {},
     "source": [
      "git clone [https://github.com/phaustin/hist2d.git](https://github.com/phaustin/hist2d.git)"
     ]
    },
    {
     "cell_type": "heading",
     "level": 1,
     "metadata": {},
     "source": [
      "To view the notebook: "
     ]
    },
    {
     "cell_type": "markdown",
     "metadata": {},
     "source": [
      "[http://nbviewer.ipython.org/github/phaustin/hist2d/blob/master/hist2d.ipynb?create=1](http://nbviewer.ipython.org/github/phaustin/hist2d/blob/master/hist2d.ipynb?create=1)"
     ]
    },
    {
     "cell_type": "heading",
     "level": 1,
     "metadata": {},
     "source": [
      "Cython code: fastbin.pyx"
     ]
    },
    {
     "cell_type": "markdown",
     "metadata": {},
     "source": [
      "```cython\n",
      "import numpy as np\n",
      "cimport numpy as np\n",
      "from libc.stdint cimport int32_t\n",
      "cimport cython\n",
      "from libc.stdio cimport printf\n",
      "\n",
      "@cython.embedsignature(True)\n",
      "@cython.cdivision(True)\n",
      "@cython.wraparound(False)\n",
      "@cython.boundscheck(False)\n",
      "def do_bins(object data_vec,int the_numbins,float mindata,\\\n",
      "            float maxdata,\\\n",
      "            int missingLow= -200,int missingHigh= -100):\n",
      "    \"\"\"\n",
      "       bin the items in data_vec into numbins\n",
      "       see binit docstring for details\n",
      "\n",
      "       parameters\n",
      "       ----------\n",
      "\n",
      "        data_vec: numpy 1d array or list\n",
      "             vector of floating point numbers to be binned\n",
      "\n",
      "        the_numbins: number of bins\n",
      "        mindata:     value of leftmost edge of the bins\n",
      "        maxdata:     value of rightmost edge of the bins\n",
      "        missingLow   bin index assigned to data smaller than mindata\n",
      "                      (must be negative)\n",
      "        missingHigh  bin index assigned to data larger than maxdatat\n",
      "                      (must be negative)\n",
      "       returns:\n",
      "       --------\n",
      "\n",
      "         dictionary with the following keys:\n",
      "\n",
      "         bin_count: numpy vector of length numbins (int)\n",
      "            vector containing bin counts\n",
      "\n",
      "         bin_index: numpy vector of len(data_vec)\n",
      "            vector containing the bin number of each datapoint\n",
      "\n",
      "         lowcount: int\n",
      "            number of points that were smaller\n",
      "            than the smallest bin\n",
      "\n",
      "         highcount: int\n",
      "            number of points that were larger than the largest\n",
      "            bin\n",
      "\n",
      "         data_vec: ndarray of the data that was binned \n",
      "    \n",
      "       example\n",
      "       -------\n",
      "             #bin a temperature vector into 20 1K  bins\n",
      "             #starting at 270.\n",
      "             bin_dict=obj.do_bins(temp_vec,20,270.,300.)\n",
      "    \"\"\"   \n",
      "    data_vec=np.ascontiguousarray(data_vec)\n",
      "    data_vec=data_vec.astype(np.float64)\n",
      "    cdef double* dataPtr= <double*> np.PyArray_DATA(data_vec)\n",
      "    cdef double binsize=(maxdata-mindata)/float(the_numbins)\n",
      "    cdef np.int32_t[:] bin_index=np.empty([data_vec.size],dtype=np.int32)\n",
      "    cdef np.int32_t[:] bin_count=np.zeros([the_numbins],dtype=np.int32)\n",
      "    cdef int lowcount=0, highcount=0,tot_loops=data_vec.size\n",
      "    cdef int i\n",
      "    cdef double float_bin,data_val\n",
      "    cdef int ibin\n",
      "    cdef double minval=mindata\n",
      "    cdef int missingLowValue=missingLow\n",
      "    cdef int missingHighValue =missingHigh\n",
      "    cdef int numbins=the_numbins\n",
      "    cdef double dataval\n",
      "\n",
      "    for i in range(tot_loops):\n",
      "        dataval=dataPtr[i]\n",
      "        float_bin =  ((dataval - minval) /binsize)\n",
      "        if float_bin < 0:\n",
      "            lowcount+=1\n",
      "            bin_index[i]=missingLowValue\n",
      "            continue\n",
      "        if float_bin > numbins:\n",
      "            highcount += 1\n",
      "            bin_index[i] = missingHighValue\n",
      "            continue\n",
      "        ibin=<int> float_bin\n",
      "        bin_count[ibin]+=1\n",
      "        bin_index[i]=ibin\n",
      "\n",
      "    bin_edges=[]\n",
      "    bin_centers=[]\n",
      "    bin_edges=[minval + (i*binsize) for i in range(numbins+1)]\n",
      "    bin_centers=[(bin_edges[i] + bin_edges[i+1])/2. for i in range(numbins)]\n",
      "    bin_edges=np.array(bin_edges)\n",
      "    bin_centers=np.array(bin_centers)\n",
      "    out_dict=dict(bin_count=np.asarray(bin_count),bin_index=np.asarray(bin_index),\n",
      "                  bin_edges=bin_edges,bin_centers=bin_centers,numbins=the_numbins,\n",
      "                  lowcount=lowcount,highcount=highcount,data_vec=data_vec)\n",
      "    return out_dict\n",
      "\n",
      "def hist_2d(dict bin_xvals,dict bin_yvals):\n",
      "    \"\"\"\n",
      "       calculate the 2-d histogram given two dictionaries produced by\n",
      "       calls to fastbin.do_bins  \n",
      "\n",
      "       parameters\n",
      "       ----------\n",
      "\n",
      "        bin_xvals: dictionary with bin_index vector from do_bins containing\n",
      "                   the bin index for each datapoint and the number of\n",
      "                   bins numbins\n",
      "\n",
      "        bin_yvals: as for bin_xvals, but for the yvalues for the histogram\n",
      "\n",
      "       returns:\n",
      "       --------\n",
      "\n",
      "         dictionary with the following keys:\n",
      "\n",
      "            index_grid: numpy object array with shape [numbinsx,numbinsy] containing the\n",
      "                     lists of datapoints that were binned into each bin\n",
      "\n",
      "            count_grid: numpy float32 array with shape [numbinsx,numbinsy] containing the\n",
      "                     counts in each bin\n",
      "\n",
      "       example\n",
      "       -------\n",
      "\n",
      "             #bin a temperature vector into 20 1K  bins\n",
      "             #starting at 270.\n",
      "             bin_dict=obj.do_bins(temp_vec,20,270.,300.)\n",
      "    \"\"\"   \n",
      "    \n",
      "    out_vals=np.empty([bin_yvals['numbins'],bin_xvals['numbins']],dtype=np.object)\n",
      "    x_index=bin_xvals['bin_index']\n",
      "    y_index=bin_yvals['bin_index']\n",
      "    xvals=bin_xvals['data_vec']\n",
      "    yvals=bin_yvals['data_vec']\n",
      "\n",
      "    cdef int numybins=bin_yvals['numbins']\n",
      "    cdef int numxbins=bin_xvals['numbins']\n",
      "    cdef int num_datapts=<int> y_index.size\n",
      "    cdef int row,col, data_index, grid_row,grid_col,rows,cols\n",
      "\n",
      "    cdef int[:] y_view=y_index\n",
      "    cdef int[:] x_view=x_index\n",
      "    \n",
      "    for row in range(numybins):\n",
      "        for col in range(numxbins):\n",
      "            out_vals[row,col]=list()\n",
      "\n",
      "    for data_index in range(num_datapts):\n",
      "        grid_row=y_index[data_index]\n",
      "        grid_col=x_index[data_index]\n",
      "        if grid_row < 0 or grid_col < 0:\n",
      "            continue\n",
      "        else:\n",
      "            out_vals[grid_row,grid_col].append(data_index)\n",
      "\n",
      "    #\n",
      "    # use float32 for counts so we can use np.nan\n",
      "    # for plotting\n",
      "    #\n",
      "    cdef float[:,:] count_grid=np.empty_like(out_vals,dtype=np.float32)\n",
      "    rows,cols=out_vals.shape\n",
      "\n",
      "    for row in range(rows):\n",
      "        for col in range(cols):\n",
      "            data_list=out_vals[row,col]\n",
      "            if len(data_list)==0:\n",
      "                count_grid[row,col]=np.nan\n",
      "            else:\n",
      "                count_grid[row,col]=len(data_list)\n",
      "    out_dict=dict(index_grid=out_vals,count_grid=np.asarray(count_grid))\n",
      "\n",
      "    return out_dict\n",
      "```"
     ]
    },
    {
     "cell_type": "heading",
     "level": 1,
     "metadata": {},
     "source": [
      "setup.py"
     ]
    },
    {
     "cell_type": "markdown",
     "metadata": {},
     "source": [
      "```python\n",
      "from distutils.core import setup\n",
      "from distutils.extension import Extension\n",
      "from Cython.Distutils import build_ext\n",
      "import numpy\n",
      "\n",
      "ext_modules = [Extension('fastbin', ['fastbin.pyx'],\n",
      "                       include_dirs = [numpy.get_include()],\n",
      "                       extra_compile_args=['-O3', '-fPIC'],\n",
      "                       library_dirs=['.'],\n",
      "                       language=\"c++\")]\n",
      "\n",
      "setup(name        = 'fastbin',\n",
      "      cmdclass    = {'build_ext': build_ext},\n",
      "      ext_modules = ext_modules\n",
      "      )\n",
      "```"
     ]
    },
    {
     "cell_type": "code",
     "collapsed": false,
     "input": [
      "!python setup.py build_ext --inplace"
     ],
     "language": "python",
     "metadata": {},
     "outputs": [],
     "prompt_number": ""
    },
    {
     "cell_type": "heading",
     "level": 1,
     "metadata": {},
     "source": [
      "test_bin.py: create a dataset that is the sum of two 2D gaussians using makeRandom:"
     ]
    },
    {
     "cell_type": "code",
     "collapsed": false,
     "input": [
      "a=5\n",
      "b=6*a\n",
      "print a"
     ],
     "language": "python",
     "metadata": {},
     "outputs": [],
     "prompt_number": ""
    },
    {
     "cell_type": "code",
     "collapsed": false,
     "input": [
      "import numpy.random as nr\n",
      "def makeRandom(meanx=None,stdx=None,meany=None,stdy=None,rho=None,\n",
      "               numpoints=4000):\n",
      "    \"\"\"\n",
      "        return a tuple with two vectors (xvec,yvec) giving the\n",
      "        coordinates of numpoints chosen from a two dimensional\n",
      "        Gauassian distribution\n",
      "\n",
      "        Parameters\n",
      "        ----------\n",
      "\n",
      "        meanx: float -- mean in x direction\n",
      "        stdx:  float -- standard deviation in x direction\n",
      "        meany: float -- mean in y direction\n",
      "        stdy:  float -- standar deviation in y direction\n",
      "        numpoints:  length of returned xvec and yvec\n",
      "        \n",
      "\n",
      "        Returns\n",
      "        -------\n",
      "\n",
      "        (xvec, yvec): tuple of ndarray vectors of length numpoints\n",
      "\n",
      "        Example\n",
      "        -------\n",
      "\n",
      "        invalues={'meanx':450.,\n",
      "                  'stdx':50,\n",
      "                  'meany':-180,\n",
      "                  'stdy':40,\n",
      "                  'rho':0.8}\n",
      "\n",
      "        chanx,chany=makeRandom(**invalues)\n",
      "        \n",
      "\n",
      "    \"\"\"\n",
      " \n",
      "    nr.seed(50)\n",
      "    sigma=np.array([stdx**2., rho*stdx*stdy, rho*stdx*stdy, stdy**2.])\n",
      "    sigma.shape=[2,2]\n",
      "    meanvec=[meanx,meany]\n",
      "    outRandom=nr.multivariate_normal(meanvec,sigma,[numpoints,])\n",
      "    chan1=outRandom[:,0]\n",
      "    chan2=outRandom[:,1]\n",
      "    return (chan1,chan2)\n"
     ],
     "language": "python",
     "metadata": {},
     "outputs": [],
     "prompt_number": ""
    },
    {
     "cell_type": "markdown",
     "metadata": {},
     "source": [
      "Use this to create an x vector and a y vector to histogram"
     ]
    },
    {
     "cell_type": "code",
     "collapsed": false,
     "input": [
      "#\n",
      "# first bullseye centered at (x=450,y= -180)\n",
      "#\n",
      "invalues={'meanx':450.,\n",
      "          'stdx':50,\n",
      "          'meany':-180,\n",
      "          'stdy':40,\n",
      "          'rho':0.8}\n",
      "\n",
      "\n",
      "chanx,chany=makeRandom(**invalues)\n",
      "\n",
      "#\n",
      "# second bullseye centered at (x=50,y=-80)\n",
      "#\n",
      "bullseye={'meanx':50.,\n",
      "          'stdx':14,\n",
      "          'meany':-80,\n",
      "          'stdy':14,\n",
      "          'rho':0.0}\n",
      "\n",
      "chanxB,chanyB=makeRandom(**bullseye)\n",
      "chanx=np.concatenate((chanx,chanxB))\n",
      "chany=np.concatenate((chany,chanyB))\n"
     ],
     "language": "python",
     "metadata": {},
     "outputs": [],
     "prompt_number": ""
    },
    {
     "cell_type": "markdown",
     "metadata": {},
     "source": [
      "Here is the scatterplot:"
     ]
    },
    {
     "cell_type": "code",
     "collapsed": false,
     "input": [
      "%matplotlib inline\n",
      "fig1=plt.figure(1)\n",
      "fig1.clf()\n",
      "axis1=fig1.add_subplot(111)\n",
      "axis1.plot(chanx,chany,'b.')\n",
      "axis1.set_title('scatterplot')\n",
      "fig1.canvas.draw()\n",
      "fig1.savefig('scatter.png')"
     ],
     "language": "python",
     "metadata": {},
     "outputs": [],
     "prompt_number": ""
    },
    {
     "cell_type": "markdown",
     "metadata": {},
     "source": [
      "now bin these two channels"
     ]
    },
    {
     "cell_type": "code",
     "collapsed": false,
     "input": [
      "from fastbin import do_bins,hist_2d"
     ],
     "language": "python",
     "metadata": {},
     "outputs": [],
     "prompt_number": ""
    },
    {
     "cell_type": "code",
     "collapsed": false,
     "input": [
      "bin_x=do_bins(chanx,70,0,700,-999,-888)\n",
      "bin_y=do_bins(chany,50,-400,0,-999,-888)\n"
     ],
     "language": "python",
     "metadata": {},
     "outputs": [],
     "prompt_number": ""
    },
    {
     "cell_type": "code",
     "collapsed": false,
     "input": [
      "bin_x.keys()"
     ],
     "language": "python",
     "metadata": {},
     "outputs": [],
     "prompt_number": ""
    },
    {
     "cell_type": "code",
     "collapsed": false,
     "input": [
      "x_centers=bin_x['bin_centers']\n",
      "y_centers=bin_y['bin_centers']\n",
      "the_hist=hist_2d(bin_x,bin_y)"
     ],
     "language": "python",
     "metadata": {},
     "outputs": [],
     "prompt_number": ""
    },
    {
     "cell_type": "code",
     "collapsed": false,
     "input": [
      "the_hist.keys()"
     ],
     "language": "python",
     "metadata": {},
     "outputs": [],
     "prompt_number": ""
    },
    {
     "cell_type": "markdown",
     "metadata": {},
     "source": [
      "plot the counts"
     ]
    },
    {
     "cell_type": "code",
     "collapsed": false,
     "input": [
      "from matplotlib import cm\n",
      "from matplotlib.colors import Normalize\n",
      "import matplotlib.pyplot as plt\n",
      "\n",
      "the_hist=hist_2d(bin_x,bin_y)\n",
      "counts=the_hist['count_grid']\n",
      "cmap=cm.RdBu_r\n",
      "cmap.set_over('y')\n",
      "cmap.set_under('w')\n",
      "vmin= 0.\n",
      "vmax= 300.\n",
      "the_norm=Normalize(vmin=vmin,vmax=vmax,clip=False)\n",
      "\n",
      "fig3=plt.figure(1)\n",
      "fig3.clf()\n",
      "axis1=fig3.add_subplot(111)\n",
      "im=axis1.pcolormesh(x_centers,y_centers,counts,cmap=cmap,norm=the_norm)\n",
      "cb=fig3.colorbar(im,extend='both')\n",
      "axis1.set_title('2d histogram')\n",
      "fig3.canvas.draw()\n",
      "fig3.savefig('histogram.png')\n"
     ],
     "language": "python",
     "metadata": {},
     "outputs": [],
     "prompt_number": ""
    },
    {
     "cell_type": "code",
     "collapsed": false,
     "input": [],
     "language": "python",
     "metadata": {},
     "outputs": [],
     "prompt_number": ""
    }
   ],
   "metadata": {}
  }
 ]
}
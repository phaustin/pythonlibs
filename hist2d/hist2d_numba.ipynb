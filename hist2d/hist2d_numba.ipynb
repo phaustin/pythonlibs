{
 "cells": [
  {
   "cell_type": "markdown",
   "metadata": {},
   "source": [
    "# Demo of do_bins and hist_2d functions using numba"
   ]
  },
  {
   "cell_type": "markdown",
   "metadata": {},
   "source": [
    "# test_bin.py: create a dataset that is the sum of two 2D gaussians using makeRandom:"
   ]
  },
  {
   "cell_type": "code",
   "execution_count": 1,
   "metadata": {
    "collapsed": false
   },
   "outputs": [],
   "source": [
    "import numpy.random as nr\n",
    "def makeRandom(meanx=None,stdx=None,meany=None,stdy=None,rho=None,\n",
    "               numpoints=4000):\n",
    "    \"\"\"\n",
    "        return a tuple with two vectors (xvec,yvec) giving the\n",
    "        coordinates of numpoints chosen from a two dimensional\n",
    "        Gauassian distribution\n",
    "\n",
    "        Parameters\n",
    "        ----------\n",
    "\n",
    "        meanx: float -- mean in x direction\n",
    "        stdx:  float -- standard deviation in x direction\n",
    "        meany: float -- mean in y direction\n",
    "        stdy:  float -- standar deviation in y direction\n",
    "        numpoints:  length of returned xvec and yvec\n",
    "        \n",
    "\n",
    "        Returns\n",
    "        -------\n",
    "\n",
    "        (xvec, yvec): tuple of ndarray vectors of length numpoints\n",
    "\n",
    "        Example\n",
    "        -------\n",
    "\n",
    "        invalues={'meanx':450.,\n",
    "                  'stdx':50,\n",
    "                  'meany':-180,\n",
    "                  'stdy':40,\n",
    "                  'rho':0.8}\n",
    "\n",
    "        chanx,chany=makeRandom(**invalues)\n",
    "        \n",
    "\n",
    "    \"\"\"\n",
    " \n",
    "    nr.seed(50)\n",
    "    sigma=np.array([stdx**2., rho*stdx*stdy, rho*stdx*stdy, stdy**2.])\n",
    "    sigma.shape=[2,2]\n",
    "    meanvec=[meanx,meany]\n",
    "    outRandom=nr.multivariate_normal(meanvec,sigma,[numpoints,])\n",
    "    chan1=outRandom[:,0]\n",
    "    chan2=outRandom[:,1]\n",
    "    return (chan1,chan2)\n"
   ]
  },
  {
   "cell_type": "markdown",
   "metadata": {},
   "source": [
    "Use this to create an x vector and a y vector to histogram"
   ]
  },
  {
   "cell_type": "code",
   "execution_count": 2,
   "metadata": {
    "collapsed": false
   },
   "outputs": [],
   "source": [
    "#\n",
    "# first bullseye centered at (x=450,y= -180)\n",
    "#\n",
    "invalues={'meanx':450.,\n",
    "          'stdx':50,\n",
    "          'meany':-180,\n",
    "          'stdy':40,\n",
    "          'rho':0.8}\n",
    "\n",
    "\n",
    "chanx,chany=makeRandom(**invalues)\n",
    "\n",
    "#\n",
    "# second bullseye centered at (x=50,y=-80)\n",
    "#\n",
    "bullseye={'meanx':50.,\n",
    "          'stdx':14,\n",
    "          'meany':-80,\n",
    "          'stdy':14,\n",
    "          'rho':0.0}\n",
    "\n",
    "chanxB,chanyB=makeRandom(**bullseye)\n",
    "chanx=np.concatenate((chanx,chanxB))\n",
    "chany=np.concatenate((chany,chanyB))\n"
   ]
  },
  {
   "cell_type": "markdown",
   "metadata": {},
   "source": [
    "Here is the scatterplot:"
   ]
  },
  {
   "cell_type": "code",
   "execution_count": 3,
   "metadata": {
    "collapsed": false
   },
   "outputs": [
    {
     "data": {
      "image/png": "[encoded data removed]",
      "text/plain": [
       "<matplotlib.figure.Figure at 0x108174eb8>"
      ]
     },
     "metadata": {},
     "output_type": "display_data"
    }
   ],
   "source": [
    "%matplotlib inline\n",
    "fig1=plt.figure(1)\n",
    "fig1.clf()\n",
    "axis1=fig1.add_subplot(111)\n",
    "axis1.plot(chanx,chany,'b.')\n",
    "axis1.set_title('scatterplot')\n",
    "fig1.canvas.draw()\n",
    "fig1.savefig('scatter.png')"
   ]
  },
  {
   "cell_type": "markdown",
   "metadata": {},
   "source": [
    "now bin these two channels"
   ]
  },
  {
   "cell_type": "code",
   "execution_count": 4,
   "metadata": {
    "collapsed": false
   },
   "outputs": [],
   "source": [
    "col_bins=np.linspace(0,700,70)\n",
    "row_bins=np.linspace(-400,0,50)"
   ]
  },
  {
   "cell_type": "code",
   "execution_count": 5,
   "metadata": {
    "collapsed": false
   },
   "outputs": [],
   "source": [
    "col_indices=np.searchsorted(col_bins,chanx.flat,'right')\n",
    "row_indices=np.searchsorted(row_bins,chany.flat,'right')"
   ]
  },
  {
   "cell_type": "code",
   "execution_count": 6,
   "metadata": {
    "collapsed": false
   },
   "outputs": [
    {
     "data": {
      "text/plain": [
       "<module 'hist_numba' from '/Users/phil/repos/pythonlibs/hist2d/hist_numba.py'>"
      ]
     },
     "execution_count": 6,
     "metadata": {},
     "output_type": "execute_result"
    }
   ],
   "source": [
    "from hist_numba import numba_hist2d\n",
    "from importlib import reload\n",
    "import hist_numba\n",
    "reload(hist_numba)"
   ]
  },
  {
   "cell_type": "code",
   "execution_count": 7,
   "metadata": {
    "collapsed": false
   },
   "outputs": [
    {
     "name": "stdout",
     "output_type": "stream",
     "text": [
      "in numba\n"
     ]
    }
   ],
   "source": [
    "hist_array,x_centers,y_centers=numba_hist2d(chanx.ravel(),chany.ravel(),col_bins,row_bins)"
   ]
  },
  {
   "cell_type": "code",
   "execution_count": 11,
   "metadata": {
    "collapsed": false
   },
   "outputs": [
    {
     "data": {
      "text/plain": [
       "<matplotlib.text.Text at 0x113e03780>"
      ]
     },
     "execution_count": 11,
     "metadata": {},
     "output_type": "execute_result"
    },
    {
     "data": {
      "image/png": "[encoded data removed]",
      "text/plain": [
       "<matplotlib.figure.Figure at 0x113c01b70>"
      ]
     },
     "metadata": {},
     "output_type": "display_data"
    }
   ],
   "source": [
    "fig3=plt.figure(1)\n",
    "from matplotlib.colors import Normalize\n",
    "the_norm=Normalize()\n",
    "cmap=plt.get_cmap('coolwarm')\n",
    "axis1=fig3.add_subplot(111)\n",
    "mask=np.isnan(hist_array)\n",
    "hist_array=np.ma.array(hist_array,mask=mask)\n",
    "im=axis1.pcolormesh(x_centers,y_centers,hist_array,cmap=cmap,norm=the_norm)\n",
    "cb=fig3.colorbar(im,extend='both')\n",
    "axis1.set_title('2d histogram')\n"
   ]
  },
  {
   "cell_type": "code",
   "execution_count": null,
   "metadata": {
    "collapsed": true
   },
   "outputs": [],
   "source": []
  }
 ],
 "metadata": {
  "kernelspec": {
   "display_name": "Python 3",
   "language": "python",
   "name": "python3"
  },
  "language_info": {
   "codemirror_mode": {
    "name": "ipython",
    "version": 3
   },
   "file_extension": ".py",
   "mimetype": "text/x-python",
   "name": "python",
   "nbconvert_exporter": "python",
   "pygments_lexer": "ipython3",
   "version": "3.4.3"
  }
 },
 "nbformat": 4,
 "nbformat_minor": 0
}

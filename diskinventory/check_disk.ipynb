{
 "metadata": {
  "name": ""
 },
 "nbformat": 3,
 "nbformat_minor": 0,
 "worksheets": [
  {
   "cells": [
    {
     "cell_type": "code",
     "collapsed": false,
     "input": [
      "!ls"
     ],
     "language": "python",
     "metadata": {},
     "outputs": [
      {
       "output_type": "stream",
       "stream": "stdout",
       "text": [
        "build_database.py  dulist.txt\t     isascii.py     readlist.py    walker.py\r\n",
        "check_disk.ipynb   file_list.db      listing.txt    retrieve.py\r\n",
        "compstats.py\t   findfiles_new.py  querymaker.py  smallquery.py\r\n",
        "du_list.db\t   findfiles.py      readdu.py\t    update_svn.py\r\n"
       ]
      }
     ],
     "prompt_number": 1
    },
    {
     "cell_type": "code",
     "collapsed": false,
     "input": [
      "run retrieve.py"
     ],
     "language": "python",
     "metadata": {},
     "outputs": [],
     "prompt_number": 4
    },
    {
     "cell_type": "code",
     "collapsed": false,
     "input": [
      "df_direcs.sort('size',ascending=False)"
     ],
     "language": "python",
     "metadata": {},
     "outputs": [
      {
       "html": [
        "<div style=\"max-height:1000px;max-width:1500px;overflow:auto;\">\n",
        "<table border=\"1\" class=\"dataframe\">\n",
        "  <thead>\n",
        "    <tr style=\"text-align: right;\">\n",
        "      <th></th>\n",
        "      <th>id</th>\n",
        "      <th>directory</th>\n",
        "      <th>level</th>\n",
        "      <th>size</th>\n",
        "    </tr>\n",
        "  </thead>\n",
        "  <tbody>\n",
        "    <tr>\n",
        "      <th>4</th>\n",
        "      <td> 5361</td>\n",
        "      <td>          /tera/phil/nchaparr</td>\n",
        "      <td> 3</td>\n",
        "      <td> 3953.477264</td>\n",
        "    </tr>\n",
        "    <tr>\n",
        "      <th>0</th>\n",
        "      <td> 1741</td>\n",
        "      <td>           /tera/phil/austinp</td>\n",
        "      <td> 3</td>\n",
        "      <td>  115.010848</td>\n",
        "    </tr>\n",
        "    <tr>\n",
        "      <th>3</th>\n",
        "      <td> 2466</td>\n",
        "      <td>         /tera/phil/GCSSARM2D</td>\n",
        "      <td> 3</td>\n",
        "      <td>  108.869188</td>\n",
        "    </tr>\n",
        "    <tr>\n",
        "      <th>9</th>\n",
        "      <td> 8912</td>\n",
        "      <td>           /tera/phil/xue_git</td>\n",
        "      <td> 3</td>\n",
        "      <td>   20.643436</td>\n",
        "    </tr>\n",
        "    <tr>\n",
        "      <th>7</th>\n",
        "      <td> 7229</td>\n",
        "      <td>        /tera/phil/sea_breeze</td>\n",
        "      <td> 3</td>\n",
        "      <td>   13.487288</td>\n",
        "    </tr>\n",
        "    <tr>\n",
        "      <th>8</th>\n",
        "      <td> 7378</td>\n",
        "      <td>              /tera/phil/test</td>\n",
        "      <td> 3</td>\n",
        "      <td>   13.219288</td>\n",
        "    </tr>\n",
        "    <tr>\n",
        "      <th>6</th>\n",
        "      <td> 7038</td>\n",
        "      <td>             /tera/phil/scm16</td>\n",
        "      <td> 3</td>\n",
        "      <td>    8.070860</td>\n",
        "    </tr>\n",
        "    <tr>\n",
        "      <th>2</th>\n",
        "      <td> 1828</td>\n",
        "      <td> /tera/phil/data.eol.ucar.edu</td>\n",
        "      <td> 3</td>\n",
        "      <td>    5.613872</td>\n",
        "    </tr>\n",
        "    <tr>\n",
        "      <th>1</th>\n",
        "      <td> 1787</td>\n",
        "      <td>     /tera/phil/cloudtracking</td>\n",
        "      <td> 3</td>\n",
        "      <td>    3.665796</td>\n",
        "    </tr>\n",
        "    <tr>\n",
        "      <th>5</th>\n",
        "      <td> 5947</td>\n",
        "      <td>      /tera/phil/sam_cpatrizi</td>\n",
        "      <td> 3</td>\n",
        "      <td>    1.615552</td>\n",
        "    </tr>\n",
        "  </tbody>\n",
        "</table>\n",
        "<p>10 rows \u00d7 4 columns</p>\n",
        "</div>"
       ],
       "metadata": {},
       "output_type": "pyout",
       "prompt_number": 9,
       "text": [
        "     id                     directory  level         size\n",
        "4  5361           /tera/phil/nchaparr      3  3953.477264\n",
        "0  1741            /tera/phil/austinp      3   115.010848\n",
        "3  2466          /tera/phil/GCSSARM2D      3   108.869188\n",
        "9  8912            /tera/phil/xue_git      3    20.643436\n",
        "7  7229         /tera/phil/sea_breeze      3    13.487288\n",
        "8  7378               /tera/phil/test      3    13.219288\n",
        "6  7038              /tera/phil/scm16      3     8.070860\n",
        "2  1828  /tera/phil/data.eol.ucar.edu      3     5.613872\n",
        "1  1787      /tera/phil/cloudtracking      3     3.665796\n",
        "5  5947       /tera/phil/sam_cpatrizi      3     1.615552\n",
        "\n",
        "[10 rows x 4 columns]"
       ]
      }
     ],
     "prompt_number": 9
    },
    {
     "cell_type": "code",
     "collapsed": false,
     "input": [],
     "language": "python",
     "metadata": {},
     "outputs": []
    }
   ],
   "metadata": {}
  }
 ]
}